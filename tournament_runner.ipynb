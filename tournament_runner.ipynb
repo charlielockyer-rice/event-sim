{
  "cells": [
    {
      "cell_type": "raw",
      "metadata": {
        "vscode": {
          "languageId": "raw"
        }
      },
      "source": [
        "# 🎮 Pokemon Tournament Runner\n",
        "\n",
        "Simple interface to run and analyze tournaments using the clean simulator.\n"
      ]
    },
    {
      "cell_type": "raw",
      "metadata": {
        "vscode": {
          "languageId": "raw"
        }
      },
      "source": [
        "# 🚀 **STREAMLINED TOURNAMENT SIMULATOR**\n",
        "\n",
        "**NEW FEATURES:**\n",
        "- **Auto-saves tournament results** to database for player tracking\n",
        "- **Variable tournament sizes** (3700-4000 players automatically)\n",
        "- **Enhanced player analysis** with tournament history\n",
        "- **Quick batch simulation** for running multiple tournaments\n",
        "- **Database tracking** of all matches, opponents, and results\n",
        "\n",
        "**Quick Start:**\n",
        "```python\n",
        "# Run single tournament (auto-saves results)\n",
        "result = sim.run_tournament()\n",
        "\n",
        "# Run 10 tournaments quickly\n",
        "batch_results = sim.run_multiple_quick(10)\n",
        "\n",
        "# Analyze any player's performance history\n",
        "sim.quick_analysis(\"Player Name\")\n",
        "\n",
        "# See top performers across all tournaments\n",
        "sim.get_top_performers()\n",
        "\n",
        "# Database statistics\n",
        "sim.database_stats()\n",
        "```\n"
      ]
    },
    {
      "cell_type": "code",
      "execution_count": 1,
      "metadata": {},
      "outputs": [
        {
          "name": "stdout",
          "output_type": "stream",
          "text": [
            "📊 Loaded 544 NA players from standings\n",
            "✅ Tournament simulator loaded!\n",
            "Ready to run tournaments.\n"
          ]
        }
      ],
      "source": [
        "# Import the clean tournament simulator\n",
        "from clean_tournament_sim import TournamentSimulator\n",
        "import pandas as pd\n",
        "\n",
        "# Create simulator instance\n",
        "sim = TournamentSimulator()\n",
        "print(\"✅ Tournament simulator loaded!\")\n",
        "print(\"Ready to run tournaments.\")\n"
      ]
    },
    {
      "cell_type": "raw",
      "metadata": {
        "vscode": {
          "languageId": "raw"
        }
      },
      "source": [
        "## 📊 **NEW: Individual Tournament Standings Analysis**\n",
        "\n",
        "**IMPORTANT:** To save individual tournament standings for player analysis, use:\n",
        "\n",
        "```python\n",
        "# For 100 tournaments with individual standings tracking:\n",
        "multi_results = sim.run_multi_event_simulation(\n",
        "    num_events=100, \n",
        "    players_per_event=3700, \n",
        "    save_individual_standings=True  # KEY: This saves each tournament's complete standings\n",
        ")\n",
        "```\n",
        "\n",
        "This will create:\n",
        "- `event_001_standings.csv` through `event_100_standings.csv` (individual tournament results)\n",
        "- `player_performance_analysis.csv` (comprehensive player metrics across all tournaments)\n",
        "- Championship standings updates\n",
        "\n",
        "**After running, analyze any player with:**\n",
        "```python\n",
        "from analyze_player_performance import analyze_player_across_tournaments\n",
        "analyze_player_across_tournaments('Player Name', multi_results['standings_directory'])\n",
        "```\n"
      ]
    },
    {
      "cell_type": "raw",
      "metadata": {
        "vscode": {
          "languageId": "raw"
        }
      },
      "source": [
        "## 🏃‍♂️ Run Tournament\n",
        "\n",
        "Click the cell below to run a full tournament simulation.\n"
      ]
    },
    {
      "cell_type": "code",
      "execution_count": 2,
      "metadata": {},
      "outputs": [
        {
          "name": "stdout",
          "output_type": "stream",
          "text": [
            "🚀 RUNNING 10 TOURNAMENTS\n",
            "🎮 Tournament 1/10... 📊 FIELD COMPOSITION:\n",
            "   Total: 3,700 players\n",
            "   Low CP (≤331): 2,987 (80.7%)\n",
            "   Real players (≥332): 713 (19.3%)\n",
            "Champion: James C (1334 CP) 💎\n",
            "🎮 Tournament 2/10... 📊 FIELD COMPOSITION:\n",
            "   Total: 3,700 players\n",
            "   Low CP (≤331): 2,987 (80.7%)\n",
            "   Real players (≥332): 713 (19.3%)\n",
            "Champion: Gabriel Smart (1330 CP) 💎\n",
            "🎮 Tournament 3/10... 📊 FIELD COMPOSITION:\n",
            "   Total: 3,700 players\n",
            "   Low CP (≤331): 2,987 (80.7%)\n",
            "   Real players (≥332): 713 (19.3%)\n",
            "Champion: Kim Pobega (1140 CP) 💎\n",
            "🎮 Tournament 4/10... 📊 FIELD COMPOSITION:\n",
            "   Total: 3,700 players\n",
            "   Low CP (≤331): 2,987 (80.7%)\n",
            "   Real players (≥332): 713 (19.3%)\n",
            "Champion: miguel rojas (790 CP) 💎\n",
            "🎮 Tournament 5/10... 📊 FIELD COMPOSITION:\n",
            "   Total: 3,700 players\n",
            "   Low CP (≤331): 2,987 (80.7%)\n",
            "   Real players (≥332): 713 (19.3%)\n",
            "Champion: Jeremy Gumila (1199 CP) 💎\n",
            "🎮 Tournament 6/10... 📊 FIELD COMPOSITION:\n",
            "   Total: 3,700 players\n",
            "   Low CP (≤331): 2,987 (80.7%)\n",
            "   Real players (≥332): 713 (19.3%)\n",
            "Champion: Eric Aubertin (488 CP) 💎\n",
            "🎮 Tournament 7/10... 📊 FIELD COMPOSITION:\n",
            "   Total: 3,700 players\n",
            "   Low CP (≤331): 2,987 (80.7%)\n",
            "   Real players (≥332): 713 (19.3%)\n",
            "Champion: Matias Matricardi (1395 CP) 💎\n",
            "🎮 Tournament 8/10... 📊 FIELD COMPOSITION:\n",
            "   Total: 3,700 players\n",
            "   Low CP (≤331): 2,987 (80.7%)\n",
            "   Real players (≥332): 713 (19.3%)\n",
            "Champion: Owen Dalgard (1525 CP) 💎\n",
            "🎮 Tournament 9/10... 📊 FIELD COMPOSITION:\n",
            "   Total: 3,700 players\n",
            "   Low CP (≤331): 2,987 (80.7%)\n",
            "   Real players (≥332): 713 (19.3%)\n",
            "Champion: Raúl Merino (785 CP) 💎\n",
            "🎮 Tournament 10/10... 📊 FIELD COMPOSITION:\n",
            "   Total: 3,700 players\n",
            "   Low CP (≤331): 2,987 (80.7%)\n",
            "   Real players (≥332): 713 (19.3%)\n",
            "Champion: Justin Kempley (880 CP) 💎\n",
            "\n",
            "📈 SUMMARY: 10 tournaments | Avg size: 3700 players | Low CP champions: 0/10 (0.0%)\n",
            "\n",
            "🎯 All results automatically saved to database with full match tracking.\n"
          ]
        }
      ],
      "source": [
        "# 🚀 QUICK BATCH SIMULATION\n",
        "# Run multiple tournaments quickly with streamlined logging\n",
        "\n",
        "# Run 10 tournaments with variable player counts (3700-4000 each)\n",
        "batch_results = sim.run_multiple_quick(num_tournaments=10, verbose=True)\n",
        "\n",
        "print(f\"\\n🎯 All results automatically saved to database with full match tracking.\")\n"
      ]
    },
    {
      "cell_type": "code",
      "execution_count": null,
      "metadata": {},
      "outputs": [],
      "source": [
        "# 🔍 ENHANCED PLAYER ANALYSIS\n",
        "# Analyze individual players with complete tournament history\n",
        "\n",
        "# Show database statistics first\n",
        "sim.database_stats()\n",
        "\n",
        "# Get top performers across all tournaments\n",
        "sim.get_top_performers(min_tournaments=3)\n",
        "\n",
        "# Analyze a specific player (replace with any player name)\n",
        "player_to_analyze = \"Isaiah C\"  # Change this to any player name\n",
        "sim.quick_analysis(player_to_analyze)\n"
      ]
    },
    {
      "cell_type": "code",
      "execution_count": null,
      "metadata": {},
      "outputs": [],
      "source": [
        "# Run single tournament\n",
        "print(\"🎮 Starting single tournament...\")\n",
        "result = sim.run_tournament()\n",
        "print(\"\\n🏁 Tournament complete!\")\n"
      ]
    },
    {
      "cell_type": "raw",
      "metadata": {
        "vscode": {
          "languageId": "raw"
        }
      },
      "source": [
        "## 🎯 Multi-Event Simulation\n",
        "\n",
        "Run multiple tournaments for better statistical analysis.\n"
      ]
    },
    {
      "cell_type": "code",
      "execution_count": null,
      "metadata": {},
      "outputs": [],
      "source": [
        "# Run multiple tournaments for statistical analysis\n",
        "num_events = 100 # Change this number (3-5 recommended for testing)\n",
        "print(f\"🎮 Running {num_events} tournaments...\")\n",
        "\n",
        "multi_results = sim.run_multi_event_simulation(num_events, players_per_event=3700)  # Smaller for faster testing\n"
      ]
    },
    {
      "cell_type": "raw",
      "metadata": {
        "vscode": {
          "languageId": "raw"
        }
      },
      "source": [
        "## 🏆 Championship Points Tournament + Final Rankings\n",
        "\n",
        "Run a tournament with the real championship points system and display final season standings.\n"
      ]
    },
    {
      "cell_type": "code",
      "execution_count": null,
      "metadata": {},
      "outputs": [],
      "source": [
        "# 🏆 CHAMPIONSHIP POINTS TOURNAMENT + FINAL RANKINGS\n",
        "# ===================================================\n",
        "# This cell runs a complete tournament with real championship points\n",
        "# and displays the final season standings for the top 150 players\n",
        "\n",
        "# Create simulator with NA championship points tracking\n",
        "from clean_tournament_sim import TournamentSimulator, NAStandingsManager\n",
        "import pandas as pd\n",
        "\n",
        "print(\"🎯 SETTING UP CHAMPIONSHIP TOURNAMENT\")\n",
        "print(\"=\" * 60)\n",
        "\n",
        "# Initialize simulator with NA standings tracking\n",
        "sim = TournamentSimulator(track_na_standings=True)\n",
        "\n",
        "if not sim.na_manager:\n",
        "    print(\"❌ Could not load NA standings data\")\n",
        "    print(\"   Make sure 'data/na_full_data.csv' exists\")\n",
        "else:\n",
        "    print(f\"✅ Loaded {len(sim.na_manager.na_standings)} NA players\")\n",
        "    \n",
        "    # Show championship points structure\n",
        "    print(f\"\\n📋 Championship Points Structure:\")\n",
        "    sim.na_manager.show_points_structure(32)\n",
        "    \n",
        "    # Show pre-tournament top 10\n",
        "    print(f\"\\n📊 CURRENT TOP 10 BEFORE TOURNAMENT:\")\n",
        "    print(\"-\" * 50)\n",
        "    current_top = sim.na_manager.get_top_players(10)\n",
        "    for i, (_, player) in enumerate(current_top.iterrows(), 1):\n",
        "        print(f\"{i:2d}. {player['Top X Name'][:25]:<25} {player['Total_CP']:4d} CP\")\n",
        "    \n",
        "    print(f\"\\n🎮 RUNNING CHAMPIONSHIP TOURNAMENT...\")\n",
        "    print(\"=\" * 60)\n"
      ]
    },
    {
      "cell_type": "code",
      "execution_count": null,
      "metadata": {},
      "outputs": [],
      "source": [
        "# Run the tournament (will automatically handle championship points)\n",
        "tournament_size = 3700  # Adjust this for faster/slower execution\n",
        "\n",
        "result = sim.run_tournament(num_players=tournament_size)\n",
        "\n",
        "if result:\n",
        "    print(f\"\\n🏁 TOURNAMENT COMPLETED SUCCESSFULLY!\")\n",
        "    print(\"=\" * 60)\n",
        "    \n",
        "    # Get the tournament results\n",
        "    df = result['players_df']\n",
        "    final_standings = result['final_standings']\n",
        "    \n",
        "    # Display tournament winner and top finishers\n",
        "    print(f\"\\n🥇 TOURNAMENT RESULTS (Top 10):\")\n",
        "    print(\"-\" * 60)\n",
        "    print(f\"{'Place':<5} {'Player':<25} {'CP':<5} {'Points':<6} {'NA Pts':<7}\")\n",
        "    print(\"-\" * 60)\n",
        "    \n",
        "    for i, (_, player) in enumerate(final_standings.head(10).iterrows(), 1):\n",
        "        name = player['name'][:24]\n",
        "        cp = int(player['cp'])\n",
        "        points = int(player['match_points'])\n",
        "        \n",
        "        # Check if they got championship points\n",
        "        if hasattr(player, 'final_placement') and pd.notna(player['final_placement']):\n",
        "            placement = int(player['final_placement'])\n",
        "            na_points = sim.na_manager.get_championship_points(placement) if sim.na_manager else 0\n",
        "        else:\n",
        "            placement = i\n",
        "            na_points = sim.na_manager.get_championship_points(placement) if sim.na_manager else 0\n",
        "            \n",
        "        print(f\"{placement:<5} {name:<25} {cp:<5} {points:<6} {na_points:<7}\")\n",
        "    \n",
        "    print(f\"\\n📊 TOURNAMENT STATISTICS:\")\n",
        "    print(\"-\" * 40)\n",
        "    total_players = len(df)\n",
        "    day2_players = len(final_standings)\n",
        "    low_cp_players = len(df[df['cp'] <= 331])\n",
        "    low_cp_advancing = len(final_standings[final_standings['cp'] <= 331])\n",
        "    \n",
        "    print(f\"Total players: {total_players:,}\")\n",
        "    print(f\"Day 2 players: {day2_players}\")\n",
        "    print(f\"Low CP players (<= 331): {low_cp_players:,} ({low_cp_players/total_players*100:.1f}%)\")\n",
        "    print(f\"Low CP advancing: {low_cp_advancing} ({low_cp_advancing/day2_players*100:.1f}%)\")\n",
        "    \n",
        "else:\n",
        "    print(\"❌ Tournament failed to complete\")\n"
      ]
    },
    {
      "cell_type": "code",
      "execution_count": null,
      "metadata": {},
      "outputs": [],
      "source": [
        "# 🔍 ANALYZE INDIVIDUAL PLAYER PERFORMANCE\n",
        "# Use this cell to analyze specific players after running tournaments\n",
        "\n",
        "from analyze_player_performance import analyze_player_across_tournaments, show_top_performers\n",
        "import os\n",
        "\n",
        "# Look for tournament data - check for 'complete' first, then timestamped ones\n",
        "if os.path.isdir(\"tournament_standings_complete\"):\n",
        "    standings_dir = \"tournament_standings_complete\"\n",
        "    print(f\"📁 Using complete standings: {standings_dir}\")\n",
        "else:\n",
        "    try:\n",
        "        standings_dir = multi_results['standings_directory']\n",
        "        print(f\"📁 Tournament data found in: {standings_dir}\")\n",
        "    except NameError:\n",
        "        print(\"❌ No tournament data found. Either:\")\n",
        "        print(\"   1. Run the multi-event simulation first with save_individual_standings=True, OR\")\n",
        "        print(\"   2. Make sure you have data in 'tournament_standings_complete' folder\")\n",
        "        standings_dir = None\n",
        "\n",
        "if standings_dir:\n",
        "    # Show top performers across all tournaments\n",
        "    print(f\"\\n🏆 TOP PERFORMERS:\")\n",
        "    show_top_performers(standings_dir)\n",
        "    \n",
        "    # Example: Analyze a specific player\n",
        "    # Replace 'Player Name' with the actual player you want to analyze\n",
        "    print(f\"\\n🔍 EXAMPLE PLAYER ANALYSIS:\")\n",
        "    analyze_player_across_tournaments('Dre Alderette', standings_dir)\n",
        "\n",
        "# To analyze any other player, use:\n",
        "# analyze_player_across_tournaments('Player Name', standings_dir)\n"
      ]
    },
    {
      "cell_type": "code",
      "execution_count": null,
      "metadata": {},
      "outputs": [],
      "source": [
        "# 🥊 HEAD-TO-HEAD ANALYSIS\n",
        "# Analyze specific player matchups and all opponents across tournaments\n",
        "\n",
        "from head_to_head_analyzer import analyze_head_to_head, analyze_all_opponents\n",
        "import os\n",
        "\n",
        "# Look for tournament data - check for 'complete' first, then timestamped ones\n",
        "if os.path.isdir(\"tournament_standings_complete\"):\n",
        "    standings_dir = \"tournament_standings_complete\"\n",
        "    print(f\"📁 Using complete standings: {standings_dir}\")\n",
        "else:\n",
        "    try:\n",
        "        standings_dir = multi_results['standings_directory']\n",
        "        print(f\"📁 Using tournament data from: {standings_dir}\")\n",
        "    except NameError:\n",
        "        print(\"❌ No tournament data found. Either:\")\n",
        "        print(\"   1. Run the multi-event simulation first with save_individual_standings=True, OR\")\n",
        "        print(\"   2. Make sure you have data in 'tournament_standings_complete' folder\")\n",
        "        standings_dir = None\n",
        "\n",
        "if standings_dir:\n",
        "    # Example 1: Head-to-head between two specific players\n",
        "    print(\"\\n\" + \"=\"*80)\n",
        "    analyze_head_to_head(\"Isaiah C\", \"Dalten Cross\", standings_dir)\n",
        "    \n",
        "    print(\"\\n\" + \"=\"*80)\n",
        "    \n",
        "    # Example 2: All opponents analysis for a player\n",
        "    analyze_all_opponents(\"Jake Santiago\", standings_dir, top_n=20)\n",
        "\n",
        "# To analyze any other matchup, use:\n",
        "# analyze_head_to_head(\"Player A\", \"Player B\", standings_dir)\n",
        "# analyze_all_opponents(\"Player Name\", standings_dir)\n"
      ]
    },
    {
      "cell_type": "code",
      "execution_count": null,
      "metadata": {},
      "outputs": [],
      "source": [
        "# 🏆 FINAL SEASON RANKINGS - TOP 150 PLAYERS\n",
        "# ============================================\n",
        "# Display the updated championship standings after the tournament\n",
        "\n",
        "if sim.na_manager:\n",
        "    print(f\"\\n🏆 FINAL NA CHAMPIONSHIP STANDINGS - TOP 150 PLAYERS\")\n",
        "    print(\"=\" * 100)\n",
        "    \n",
        "    # Generate final rankings (automatically saves updated standings)\n",
        "    final_rankings = sim.na_manager.generate_final_rankings(top_n=150)\n",
        "    \n",
        "    # Save to file for reference\n",
        "    timestamp = pd.Timestamp.now().strftime(\"%Y%m%d_%H%M%S\")\n",
        "    output_file = f\"final_rankings_top150_{timestamp}.csv\"\n",
        "    final_rankings.to_csv(output_file, index=False)\n",
        "    \n",
        "    print(f\"\\n💾 Top 150 rankings saved to: {output_file}\")\n",
        "    \n",
        "    # Show some key statistics\n",
        "    print(f\"\\n📊 CHAMPIONSHIP POINTS SUMMARY:\")\n",
        "    print(\"-\" * 50)\n",
        "    print(f\"Total players tracked: {len(sim.na_manager.na_standings):,}\")\n",
        "    print(f\"Players with championship points: {len(sim.na_manager.na_standings[sim.na_manager.na_standings['Total_CP'] > 0]):,}\")\n",
        "    print(f\"Highest Total CP: {sim.na_manager.na_standings['Total_CP'].max():,}\")\n",
        "    print(f\"Average Total CP: {sim.na_manager.na_standings['Total_CP'].mean():.1f}\")\n",
        "    \n",
        "    # Show top 5 changes if there were any\n",
        "    print(f\"\\n🔥 CURRENT CHAMPIONSHIP LEADERS:\")\n",
        "    print(\"-\" * 50)\n",
        "    top_5 = final_rankings.head(5)\n",
        "    for i, (_, player) in enumerate(top_5.iterrows(), 1):\n",
        "        name = player['Top X Name'][:30]\n",
        "        total_cp = int(player['Total_CP'])\n",
        "        top_x = int(player['Top_X_CP'])\n",
        "        locals_cp = int(player['Locals CP'])\n",
        "        print(f\"{i}. {name:<30} | Total: {total_cp:,} | Top X: {top_x:,} | Locals: {locals_cp}\")\n",
        "        \n",
        "    print(f\"\\n✅ Championship points tournament and rankings complete!\")\n",
        "    print(f\"📁 All data saved with timestamp for future reference\")\n",
        "    \n",
        "else:\n",
        "    print(\"❌ Cannot display final rankings - NA standings not loaded\")\n"
      ]
    },
    {
      "cell_type": "raw",
      "metadata": {
        "vscode": {
          "languageId": "raw"
        }
      },
      "source": [
        "## 🎯 140th Place Championship Points Experiment\n",
        "\n",
        "**ONE-CLICK ANALYSIS** - Track exactly what matters: the 140th place player's championship points after multiple tournaments.\n"
      ]
    },
    {
      "cell_type": "code",
      "execution_count": null,
      "metadata": {},
      "outputs": [],
      "source": [
        "# 🎯 140TH PLACE CUTOFF PREDICTION - INDEPENDENT SCENARIOS \n",
        "# =========================================================\n",
        "# This runs INDEPENDENT tournaments to predict the range of possible 140th place cutoffs\n",
        "# Each tournament starts from the same baseline (NO cumulative effects!)\n",
        "\n",
        "# EXPERIMENT PARAMETERS (ADJUST THESE)\n",
        "num_scenarios = 10        # Number of independent scenarios to simulate\n",
        "tournament_size = 1000    # Players per tournament (1000 = faster, 3700 = realistic)\n",
        "\n",
        "print(f\"🎯 PREDICTING 140TH PLACE CUTOFF RANGE\")\n",
        "print(\"=\" * 60)\n",
        "print(f\"Parameters:\")\n",
        "print(f\"   Independent scenarios: {num_scenarios}\")\n",
        "print(f\"   Tournament size: {tournament_size:,} players each\")\n",
        "print(f\"   Goal: Predict where the 140th place cutoff will be\")\n",
        "print(f\"   Method: Each tournament starts from same baseline\")\n",
        "\n",
        "# Create simulator with championship points tracking\n",
        "sim = TournamentSimulator(track_na_standings=True)\n",
        "\n",
        "if sim.na_manager:\n",
        "    # Run the independent scenario analysis\n",
        "    results = sim.track_140th_place_experiment(\n",
        "        num_simulations=num_scenarios,\n",
        "        tournament_size=tournament_size,\n",
        "        save_results=True\n",
        "    )\n",
        "    \n",
        "    if results:\n",
        "        # Extract the key data for further analysis\n",
        "        place_140_values = results['raw_data']\n",
        "        stats = results['statistics']\n",
        "        \n",
        "        print(f\"\\n🎯 CUTOFF PREDICTION SUMMARY\")\n",
        "        print(\"=\" * 50)\n",
        "        print(f\"Baseline:    {stats['initial_value']:,} CP\")\n",
        "        print(f\"Predicted Range:\")\n",
        "        print(f\"  Lowest:    {stats['min']:,} CP\")\n",
        "        print(f\"  Highest:   {stats['max']:,} CP\")\n",
        "        print(f\"  Most likely: {stats['mean']:,.1f} CP\")\n",
        "        print(f\"  Std Dev:   {stats['std']:,.1f} CP\")\n",
        "        \n",
        "        # Calculate useful metrics for cutoff prediction\n",
        "        confidence_68 = stats['std']  # ~68% of results within 1 std dev\n",
        "        lower_bound = stats['mean'] - confidence_68\n",
        "        upper_bound = stats['mean'] + confidence_68\n",
        "        \n",
        "        print(f\"\\n📊 CUTOFF CONFIDENCE INTERVALS:\")\n",
        "        print(f\"  68% likely between: {lower_bound:,.0f} - {upper_bound:,.0f} CP\")\n",
        "        print(f\"  Absolute range:     {stats['min']:,} - {stats['max']:,} CP\")\n",
        "        \n",
        "        # Store for easy access\n",
        "        cutoff_prediction = {\n",
        "            'baseline': stats['initial_value'],\n",
        "            'scenarios': place_140_values,\n",
        "            'predicted_mean': stats['mean'],\n",
        "            'predicted_min': stats['min'],\n",
        "            'predicted_max': stats['max'],\n",
        "            'std_dev': stats['std'],\n",
        "            'confidence_68_lower': lower_bound,\n",
        "            'confidence_68_upper': upper_bound\n",
        "        }\n",
        "        \n",
        "        print(f\"\\n✅ Cutoff prediction complete! Data stored in 'cutoff_prediction' variable\")\n",
        "        print(f\"💾 Detailed results saved to timestamped files\")\n",
        "    else:\n",
        "        print(\"❌ Prediction failed\")\n",
        "else:\n",
        "    print(\"❌ Cannot run prediction - championship points system not loaded\")\n"
      ]
    },
    {
      "cell_type": "code",
      "execution_count": null,
      "metadata": {},
      "outputs": [],
      "source": [
        "# 🚀 QUICK CUTOFF PREDICTOR\n",
        "# ==========================\n",
        "# Easy one-liners for different prediction scenarios (all INDEPENDENT)\n",
        "\n",
        "def quick_prediction(num_scenarios, size=1000):\n",
        "    \"\"\"Run quick 140th place cutoff prediction with independent scenarios\"\"\"\n",
        "    sim = TournamentSimulator(track_na_standings=True)\n",
        "    if sim.na_manager:\n",
        "        return sim.track_140th_place_experiment(num_scenarios, size, save_results=True)\n",
        "    return None\n",
        "\n",
        "# UNCOMMENT THE LINE YOU WANT TO RUN:\n",
        "\n",
        "# Quick test (5 independent scenarios, 1000 players each)\n",
        "# results_quick = quick_prediction(5, 1000)\n",
        "\n",
        "# Standard prediction (10 independent scenarios, 1000 players each) \n",
        "# results_standard = quick_prediction(10, 1000)\n",
        "\n",
        "# Large sample (20 independent scenarios, 1000 players each)\n",
        "# results_large = quick_prediction(20, 1000)\n",
        "\n",
        "# Realistic size (10 independent scenarios, 3700 players each) - SLOW!\n",
        "results_realistic = quick_prediction(10, 3700)\n",
        "\n",
        "print(\"🚀 Quick Cutoff Predictor Ready!\")\n",
        "print(\"Each scenario is INDEPENDENT - no cumulative effects\")\n",
        "print(\"Uncomment one of the lines above and run this cell\")\n"
      ]
    },
    {
      "cell_type": "raw",
      "metadata": {
        "vscode": {
          "languageId": "raw"
        }
      },
      "source": [
        "## 📊 Single Tournament Summary\n",
        "\n",
        "Get comprehensive results for the last single tournament.\n"
      ]
    },
    {
      "cell_type": "code",
      "execution_count": null,
      "metadata": {},
      "outputs": [],
      "source": [
        "# Show single tournament summary (from last single tournament run)\n",
        "sim.tournament_summary()\n"
      ]
    },
    {
      "cell_type": "raw",
      "metadata": {
        "vscode": {
          "languageId": "raw"
        }
      },
      "source": [
        "## 🔍 Player Analysis\n",
        "\n",
        "Analyze specific players by entering their name below.\n"
      ]
    },
    {
      "cell_type": "code",
      "execution_count": null,
      "metadata": {},
      "outputs": [],
      "source": [
        "# Analyze specific player\n",
        "player_name = \"Charlie Lockyer\"  # Change this name\n",
        "\n",
        "print(f\"🔍 Analyzing player: {player_name}\")\n",
        "sim.analyze_player(player_name)\n"
      ]
    },
    {
      "cell_type": "raw",
      "metadata": {
        "vscode": {
          "languageId": "raw"
        }
      },
      "source": [
        "## 🚨 Low CP Success Check\n",
        "\n",
        "Find any low CP players who performed unexpectedly well.\n"
      ]
    },
    {
      "cell_type": "code",
      "execution_count": null,
      "metadata": {},
      "outputs": [],
      "source": [
        "# Check for successful low CP players\n",
        "sim.find_successful_low_cp(8)  # 8+ wins threshold\n"
      ]
    },
    {
      "cell_type": "raw",
      "metadata": {
        "vscode": {
          "languageId": "raw"
        }
      },
      "source": [
        "## 📈 Quick Stats\n",
        "\n",
        "Get quick tournament statistics in a clean format.\n"
      ]
    },
    {
      "cell_type": "code",
      "execution_count": null,
      "metadata": {},
      "outputs": [],
      "source": [
        "# Quick stats\n",
        "if sim.tournament_result is not None:\n",
        "    df = sim.tournament_result['players_df']\n",
        "    final = sim.tournament_result['final_standings']\n",
        "    \n",
        "    # Basic stats\n",
        "    total_players = len(df)\n",
        "    low_cp_count = len(df[df['cp'] <= 331])\n",
        "    advanced = len(df[df['match_points'] >= 19])\n",
        "    low_cp_advanced = len(df[(df['match_points'] >= 19) & (df['cp'] <= 331)])\n",
        "    \n",
        "    # Top cut stats\n",
        "    top8_low = len(final.head(8)[final.head(8)['cp'] <= 331])\n",
        "    top16_low = len(final.head(16)[final.head(16)['cp'] <= 331])\n",
        "    top32_low = len(final.head(32)[final.head(32)['cp'] <= 331])\n",
        "    \n",
        "    # Champion\n",
        "    champion = final.iloc[0]\n",
        "    \n",
        "    print(\"📊 QUICK TOURNAMENT STATS\")\n",
        "    print(\"=\" * 40)\n",
        "    print(f\"Total Players: {total_players:,}\")\n",
        "    print(f\"Low CP (≤331): {low_cp_count:,} ({low_cp_count/total_players*100:.1f}%)\")\n",
        "    print(f\"Advanced to Day 2: {advanced}\")\n",
        "    print(f\"Low CP Advanced: {low_cp_advanced} ({low_cp_advanced/advanced*100:.1f}%)\")\n",
        "    print()\n",
        "    print(f\"Champion: {champion['name']} ({champion['cp']} CP)\")\n",
        "    print(f\"Champion Record: {champion['wins']}-{champion['losses']}-{champion['ties']}\")\n",
        "    print()\n",
        "    print(f\"Low CP in Top 8: {top8_low}/8 ({top8_low/8*100:.1f}%)\")\n",
        "    print(f\"Low CP in Top 16: {top16_low}/16 ({top16_low/16*100:.1f}%)\")\n",
        "    print(f\"Low CP in Top 32: {top32_low}/32 ({top32_low/32*100:.1f}%)\")\n",
        "    \n",
        "else:\n",
        "    print(\"❌ No tournament results available. Run a tournament first!\")\n"
      ]
    },
    {
      "cell_type": "raw",
      "metadata": {
        "vscode": {
          "languageId": "raw"
        }
      },
      "source": [
        "---\n",
        "\n",
        "### 💡 Tips:\n",
        "- Run cells in order for best results\n",
        "- Modify player names in the analysis section\n",
        "- Change tournament size in the custom options\n",
        "- All results are automatically saved in `sim.tournament_result`\n"
      ]
    }
  ],
  "metadata": {
    "kernelspec": {
      "display_name": "Python 3",
      "language": "python",
      "name": "python3"
    },
    "language_info": {
      "codemirror_mode": {
        "name": "ipython",
        "version": 3
      },
      "file_extension": ".py",
      "mimetype": "text/x-python",
      "name": "python",
      "nbconvert_exporter": "python",
      "pygments_lexer": "ipython3",
      "version": "3.9.6"
    }
  },
  "nbformat": 4,
  "nbformat_minor": 2
}
