{
  "cells": [
    {
      "cell_type": "raw",
      "metadata": {
        "vscode": {
          "languageId": "raw"
        }
      },
      "source": [
        "# 🎮 Pokemon Tournament Runner\n",
        "\n",
        "Simple interface to run and analyze tournaments using the clean simulator.\n"
      ]
    },
    {
      "cell_type": "code",
      "execution_count": 1,
      "metadata": {},
      "outputs": [
        {
          "name": "stdout",
          "output_type": "stream",
          "text": [
            "📊 Loaded 544 NA players from standings\n",
            "✅ Tournament simulator loaded!\n",
            "Ready to run tournaments.\n"
          ]
        }
      ],
      "source": [
        "# Import the clean tournament simulator\n",
        "from clean_tournament_sim import TournamentSimulator\n",
        "import pandas as pd\n",
        "\n",
        "# Create simulator instance\n",
        "sim = TournamentSimulator()\n",
        "print(\"✅ Tournament simulator loaded!\")\n",
        "print(\"Ready to run tournaments.\")\n"
      ]
    },
    {
      "cell_type": "raw",
      "metadata": {
        "vscode": {
          "languageId": "raw"
        }
      },
      "source": [
        "## 📊 **NEW: Individual Tournament Standings Analysis**\n",
        "\n",
        "**IMPORTANT:** To save individual tournament standings for player analysis, use:\n",
        "\n",
        "```python\n",
        "# For 100 tournaments with individual standings tracking:\n",
        "multi_results = sim.run_multi_event_simulation(\n",
        "    num_events=100, \n",
        "    players_per_event=3700, \n",
        "    save_individual_standings=True  # KEY: This saves each tournament's complete standings\n",
        ")\n",
        "```\n",
        "\n",
        "This will create:\n",
        "- `event_001_standings.csv` through `event_100_standings.csv` (individual tournament results)\n",
        "- `player_performance_analysis.csv` (comprehensive player metrics across all tournaments)\n",
        "- Championship standings updates\n",
        "\n",
        "**After running, analyze any player with:**\n",
        "```python\n",
        "from analyze_player_performance import analyze_player_across_tournaments\n",
        "analyze_player_across_tournaments('Player Name', multi_results['standings_directory'])\n",
        "```\n"
      ]
    },
    {
      "cell_type": "raw",
      "metadata": {
        "vscode": {
          "languageId": "raw"
        }
      },
      "source": [
        "## 🏃‍♂️ Run Tournament\n",
        "\n",
        "Click the cell below to run a full tournament simulation.\n"
      ]
    },
    {
      "cell_type": "code",
      "execution_count": null,
      "metadata": {},
      "outputs": [],
      "source": [
        "# Run single tournament\n",
        "print(\"🎮 Starting single tournament...\")\n",
        "result = sim.run_tournament()\n",
        "print(\"\\n🏁 Tournament complete!\")\n"
      ]
    },
    {
      "cell_type": "raw",
      "metadata": {
        "vscode": {
          "languageId": "raw"
        }
      },
      "source": [
        "## 🎯 Multi-Event Simulation\n",
        "\n",
        "Run multiple tournaments for better statistical analysis.\n"
      ]
    },
    {
      "cell_type": "code",
      "execution_count": null,
      "metadata": {},
      "outputs": [],
      "source": [
        "# Run multiple tournaments for statistical analysis\n",
        "num_events = 100 # Change this number (3-5 recommended for testing)\n",
        "print(f\"🎮 Running {num_events} tournaments...\")\n",
        "\n",
        "multi_results = sim.run_multi_event_simulation(num_events, players_per_event=3700)  # Smaller for faster testing\n"
      ]
    },
    {
      "cell_type": "raw",
      "metadata": {
        "vscode": {
          "languageId": "raw"
        }
      },
      "source": [
        "## 🏆 Championship Points Tournament + Final Rankings\n",
        "\n",
        "Run a tournament with the real championship points system and display final season standings.\n"
      ]
    },
    {
      "cell_type": "code",
      "execution_count": null,
      "metadata": {},
      "outputs": [],
      "source": [
        "# 🏆 CHAMPIONSHIP POINTS TOURNAMENT + FINAL RANKINGS\n",
        "# ===================================================\n",
        "# This cell runs a complete tournament with real championship points\n",
        "# and displays the final season standings for the top 150 players\n",
        "\n",
        "# Create simulator with NA championship points tracking\n",
        "from clean_tournament_sim import TournamentSimulator, NAStandingsManager\n",
        "import pandas as pd\n",
        "\n",
        "print(\"🎯 SETTING UP CHAMPIONSHIP TOURNAMENT\")\n",
        "print(\"=\" * 60)\n",
        "\n",
        "# Initialize simulator with NA standings tracking\n",
        "sim = TournamentSimulator(track_na_standings=True)\n",
        "\n",
        "if not sim.na_manager:\n",
        "    print(\"❌ Could not load NA standings data\")\n",
        "    print(\"   Make sure 'data/na_full_data.csv' exists\")\n",
        "else:\n",
        "    print(f\"✅ Loaded {len(sim.na_manager.na_standings)} NA players\")\n",
        "    \n",
        "    # Show championship points structure\n",
        "    print(f\"\\n📋 Championship Points Structure:\")\n",
        "    sim.na_manager.show_points_structure(32)\n",
        "    \n",
        "    # Show pre-tournament top 10\n",
        "    print(f\"\\n📊 CURRENT TOP 10 BEFORE TOURNAMENT:\")\n",
        "    print(\"-\" * 50)\n",
        "    current_top = sim.na_manager.get_top_players(10)\n",
        "    for i, (_, player) in enumerate(current_top.iterrows(), 1):\n",
        "        print(f\"{i:2d}. {player['Top X Name'][:25]:<25} {player['Total_CP']:4d} CP\")\n",
        "    \n",
        "    print(f\"\\n🎮 RUNNING CHAMPIONSHIP TOURNAMENT...\")\n",
        "    print(\"=\" * 60)\n"
      ]
    },
    {
      "cell_type": "code",
      "execution_count": null,
      "metadata": {},
      "outputs": [],
      "source": [
        "# Run the tournament (will automatically handle championship points)\n",
        "tournament_size = 3700  # Adjust this for faster/slower execution\n",
        "\n",
        "result = sim.run_tournament(num_players=tournament_size)\n",
        "\n",
        "if result:\n",
        "    print(f\"\\n🏁 TOURNAMENT COMPLETED SUCCESSFULLY!\")\n",
        "    print(\"=\" * 60)\n",
        "    \n",
        "    # Get the tournament results\n",
        "    df = result['players_df']\n",
        "    final_standings = result['final_standings']\n",
        "    \n",
        "    # Display tournament winner and top finishers\n",
        "    print(f\"\\n🥇 TOURNAMENT RESULTS (Top 10):\")\n",
        "    print(\"-\" * 60)\n",
        "    print(f\"{'Place':<5} {'Player':<25} {'CP':<5} {'Points':<6} {'NA Pts':<7}\")\n",
        "    print(\"-\" * 60)\n",
        "    \n",
        "    for i, (_, player) in enumerate(final_standings.head(10).iterrows(), 1):\n",
        "        name = player['name'][:24]\n",
        "        cp = int(player['cp'])\n",
        "        points = int(player['match_points'])\n",
        "        \n",
        "        # Check if they got championship points\n",
        "        if hasattr(player, 'final_placement') and pd.notna(player['final_placement']):\n",
        "            placement = int(player['final_placement'])\n",
        "            na_points = sim.na_manager.get_championship_points(placement) if sim.na_manager else 0\n",
        "        else:\n",
        "            placement = i\n",
        "            na_points = sim.na_manager.get_championship_points(placement) if sim.na_manager else 0\n",
        "            \n",
        "        print(f\"{placement:<5} {name:<25} {cp:<5} {points:<6} {na_points:<7}\")\n",
        "    \n",
        "    print(f\"\\n📊 TOURNAMENT STATISTICS:\")\n",
        "    print(\"-\" * 40)\n",
        "    total_players = len(df)\n",
        "    day2_players = len(final_standings)\n",
        "    low_cp_players = len(df[df['cp'] <= 331])\n",
        "    low_cp_advancing = len(final_standings[final_standings['cp'] <= 331])\n",
        "    \n",
        "    print(f\"Total players: {total_players:,}\")\n",
        "    print(f\"Day 2 players: {day2_players}\")\n",
        "    print(f\"Low CP players (<= 331): {low_cp_players:,} ({low_cp_players/total_players*100:.1f}%)\")\n",
        "    print(f\"Low CP advancing: {low_cp_advancing} ({low_cp_advancing/day2_players*100:.1f}%)\")\n",
        "    \n",
        "else:\n",
        "    print(\"❌ Tournament failed to complete\")\n"
      ]
    },
    {
      "cell_type": "code",
      "execution_count": 14,
      "metadata": {},
      "outputs": [
        {
          "name": "stdout",
          "output_type": "stream",
          "text": [
            "📁 Using complete standings: tournament_standings_complete\n",
            "\n",
            "🏆 TOP PERFORMERS:\n",
            "🏆 TOP 20 PERFORMERS (by average placement)\n",
            "====================================================================================================\n",
            "Rank Player Name               CP    Apps Avg    Best  T8s  T16s  Day2%  Consistency\n",
            "----------------------------------------------------------------------------------------------------\n",
            "1    Rahul Reddy               1525  83   69.2   1     6    19    100.0  0.014\n",
            "2    Brent Tonisson            2020  87   73.4   1     12   19    100.0  0.016\n",
            "3    Henry Chao                1738  82   73.9   2     7    18    100.0  0.014\n",
            "4    Daniel Magda              1600  83   74.2   1     11   23    100.0  0.014\n",
            "5    Giovanny Sasso Silva      1704  85   76.8   1     17   26    100.0  0.013\n",
            "6    Owen Dalgard              1525  72   86.8   1     4    10    100.0  0.015\n",
            "7    Michael Davidson          1500  76   88.2   2     10   18    100.0  0.014\n",
            "8    rafael yuiti              1557  88   88.6   1     9    16    100.0  0.014\n",
            "9    Christian LaBella         1228  75   90.5   1     9    18    100.0  0.012\n",
            "10   James Kowalski            780   78   92.2   1     7    12    100.0  0.012\n",
            "11   Alberto Conti             1485  78   92.4   1     7    11    100.0  0.012\n",
            "12   zach lesage               800   83   92.9   2     7    10    100.0  0.015\n",
            "13   Ian R                     1160  78   93.4   2     11   16    100.0  0.013\n",
            "14   Phoenix White             1275  80   93.9   2     14   18    100.0  0.013\n",
            "15   Gabriel Smart             1330  75   94.2   2     5    12    100.0  0.013\n",
            "16   CHARIZARDMT               794   68   96.0   1     4    10    100.0  0.014\n",
            "17   Drew Hedrick              1339  81   96.2   2     4    10    100.0  0.013\n",
            "18   Jon Eng                   1150  78   97.0   2     4    9     100.0  0.013\n",
            "19   Goomy35                   780   75   97.3   2     8    10    100.0  0.012\n",
            "20   Caleb Rogerson            1589  87   97.6   1     7    17    100.0  0.012\n",
            "\n",
            "🔍 EXAMPLE PLAYER ANALYSIS:\n",
            "🔍 ANALYZING PLAYER: Dre Alderette\n",
            "============================================================\n",
            "📊 PERFORMANCE SUMMARY:\n",
            "   Tournament appearances: 67\n",
            "   Average placement: 141.9\n",
            "   Best placement: 1\n",
            "   Worst placement: 326\n",
            "   Median placement: 129.0\n",
            "   Placement std dev: 89.0\n",
            "\n",
            "🏆 ACHIEVEMENT BREAKDOWN:\n",
            "   Top 8 finishes: 2/67 (3.0%)\n",
            "   Top 16 finishes: 4/67 (6.0%)\n",
            "   Top 32 finishes: 8/67 (11.9%)\n",
            "   Day 2 qualifications: 67/67 (100.0%)\n",
            "\n",
            "📋 EVENT-BY-EVENT RESULTS:\n",
            "Event  Place  Record   Points Day 2\n",
            "----------------------------------------\n",
            "3      63     9-2-2    29     ✅\n",
            "4      9      10-0-3   33     ✅\n",
            "5      85     9-3-1    28     ✅\n",
            "6      263    7-4-2    23     ✅\n",
            "7      243    8-5-0    24     ✅\n",
            "9      125    9-4-0    27     ✅\n",
            "10     244    7-3-3    24     ✅\n",
            "12     236    7-2-4    25     ✅\n",
            "15     307    7-5-1    22     ✅\n",
            "17     45     9-1-3    30     ✅\n",
            "18     59     9-2-2    29     ✅\n",
            "20     62     9-2-2    29     ✅\n",
            "21     48     9-1-3    30     ✅\n",
            "22     92     9-3-1    28     ✅\n",
            "24     129    8-2-3    27     ✅\n",
            "25     4      11-1-1   34     ✅\n",
            "26     65     9-2-2    29     ✅\n",
            "27     258    7-4-2    23     ✅\n",
            "28     154    8-3-2    26     ✅\n",
            "29     137    8-2-3    27     ✅\n",
            "33     262    7-4-2    23     ✅\n",
            "34     62     9-2-2    29     ✅\n",
            "38     79     8-0-5    29     ✅\n",
            "39     118    9-4-0    27     ✅\n",
            "40     94     9-3-1    28     ✅\n",
            "41     231    7-2-4    25     ✅\n",
            "43     90     9-3-1    28     ✅\n",
            "44     240    8-5-0    24     ✅\n",
            "45     259    7-4-2    23     ✅\n",
            "46     1      12-1-0   36     ✅\n",
            "47     26     10-2-1   31     ✅\n",
            "50     163    8-3-2    26     ✅\n",
            "51     228    7-2-4    25     ✅\n",
            "52     109    8-1-4    28     ✅\n",
            "53     250    7-3-3    24     ✅\n",
            "55     28     9-0-4    31     ✅\n",
            "57     24     10-2-1   31     ✅\n",
            "59     160    8-3-2    26     ✅\n",
            "60     252    7-3-3    24     ✅\n",
            "61     247    7-3-3    24     ✅\n",
            "62     226    7-2-4    25     ✅\n",
            "63     187    8-4-1    25     ✅\n",
            "64     147    8-3-2    26     ✅\n",
            "65     270    7-4-2    23     ✅\n",
            "66     326    6-3-4    22     ✅\n",
            "69     247    7-3-3    24     ✅\n",
            "70     60     9-2-2    29     ✅\n",
            "71     82     9-3-1    28     ✅\n",
            "72     21     10-2-1   31     ✅\n",
            "75     81     9-3-1    28     ✅\n",
            "77     64     9-2-2    29     ✅\n",
            "78     139    8-2-3    27     ✅\n",
            "79     15     10-1-2   32     ✅\n",
            "80     37     10-3-0   30     ✅\n",
            "81     71     8-0-5    29     ✅\n",
            "83     138    8-2-3    27     ✅\n",
            "84     61     9-2-2    29     ✅\n",
            "85     123    9-4-0    27     ✅\n",
            "86     149    8-3-2    26     ✅\n",
            "88     157    8-3-2    26     ✅\n",
            "90     234    8-5-0    24     ✅\n",
            "91     95     9-3-1    28     ✅\n",
            "92     231    7-2-4    25     ✅\n",
            "96     194    8-4-1    25     ✅\n",
            "97     245    7-3-3    24     ✅\n",
            "98     121    9-4-0    27     ✅\n",
            "100    232    7-3-3    24     ✅\n"
          ]
        }
      ],
      "source": [
        "# 🔍 ANALYZE INDIVIDUAL PLAYER PERFORMANCE\n",
        "# Use this cell to analyze specific players after running tournaments\n",
        "\n",
        "from analyze_player_performance import analyze_player_across_tournaments, show_top_performers\n",
        "import os\n",
        "\n",
        "# Look for tournament data - check for 'complete' first, then timestamped ones\n",
        "if os.path.isdir(\"tournament_standings_complete\"):\n",
        "    standings_dir = \"tournament_standings_complete\"\n",
        "    print(f\"📁 Using complete standings: {standings_dir}\")\n",
        "else:\n",
        "    try:\n",
        "        standings_dir = multi_results['standings_directory']\n",
        "        print(f\"📁 Tournament data found in: {standings_dir}\")\n",
        "    except NameError:\n",
        "        print(\"❌ No tournament data found. Either:\")\n",
        "        print(\"   1. Run the multi-event simulation first with save_individual_standings=True, OR\")\n",
        "        print(\"   2. Make sure you have data in 'tournament_standings_complete' folder\")\n",
        "        standings_dir = None\n",
        "\n",
        "if standings_dir:\n",
        "    # Show top performers across all tournaments\n",
        "    print(f\"\\n🏆 TOP PERFORMERS:\")\n",
        "    show_top_performers(standings_dir)\n",
        "    \n",
        "    # Example: Analyze a specific player\n",
        "    # Replace 'Player Name' with the actual player you want to analyze\n",
        "    print(f\"\\n🔍 EXAMPLE PLAYER ANALYSIS:\")\n",
        "    analyze_player_across_tournaments('Dre Alderette', standings_dir)\n",
        "\n",
        "# To analyze any other player, use:\n",
        "# analyze_player_across_tournaments('Player Name', standings_dir)\n"
      ]
    },
    {
      "cell_type": "code",
      "execution_count": 12,
      "metadata": {},
      "outputs": [
        {
          "name": "stdout",
          "output_type": "stream",
          "text": [
            "📁 Using complete standings: tournament_standings_complete\n",
            "\n",
            "================================================================================\n",
            "⚔️  HEAD-TO-HEAD ANALYSIS: Isaiah C vs Dalten Cross\n",
            "================================================================================\n",
            "📊 OVERALL RECORD:\n",
            "   Total matches: 1\n",
            "   Isaiah C: 0 wins (0.0%)\n",
            "   Dalten Cross: 1 wins (100.0%)\n",
            "   Ties: 0 (0.0%)\n",
            "\n",
            "💪 CP ANALYSIS:\n",
            "   Average CP difference: +171 (+ means Isaiah C higher)\n",
            "\n",
            "🏆 TOURNAMENT PERFORMANCE (when they played):\n",
            "   Isaiah C average placement: 11.0\n",
            "   Dalten Cross average placement: 48.0\n",
            "\n",
            "📋 DETAILED MATCH HISTORY:\n",
            "Event   Round   Winner                   CP Diff   Brutal  Final Placements\n",
            "--------------------------------------------------------------------------------\n",
            "60      7       Dalten Cross             +171      No      11 vs 48\n",
            "\n",
            "================================================================================\n",
            "🎯 ALL OPPONENTS ANALYSIS: Jake Santiago\n",
            "============================================================\n",
            "\n",
            "📊 TOP 20 MOST FACED OPPONENTS:\n",
            "Opponent                 Matches   W-L-T       Win %     \n",
            "------------------------------------------------------------\n",
            "James C                  5         1-3-1       20.0%\n",
            "Ciaran Farah             5         1-3-1       20.0%\n",
            "Taylor W                 4         3-1-0       75.0%\n",
            "Evan Bryant              4         3-1-0       75.0%\n",
            "Dominic Viola            4         2-1-1       50.0%\n",
            "Matthew Houtput          4         2-1-1       50.0%\n",
            "PRESTON Rutledge         4         2-2-0       50.0%\n",
            "Jamie Hindley            4         1-2-1       25.0%\n",
            "Lucas Hamilton-foster    4         1-1-2       25.0%\n",
            "Thomas V                 4         1-0-3       25.0%\n",
            "Alberto Conti            4         0-3-1       0.0%\n",
            "Josiah Johnson           3         3-0-0       100.0%\n",
            "Dillon Johnson           3         2-1-0       66.7%\n",
            "brandon salazar          3         2-1-0       66.7%\n",
            "Dylan Smeigh             3         2-1-0       66.7%\n",
            "Joshua Wallis            3         2-1-0       66.7%\n",
            "Coreyology               3         2-1-0       66.7%\n",
            "Dylan K                  3         2-1-0       66.7%\n",
            "Jackson Kelly            3         2-0-1       66.7%\n",
            "Nathan Ginsburg          3         1-2-0       33.3%\n",
            "\n",
            "🏆 BEST MATCHUPS (3+ matches):\n",
            "   Josiah Johnson: 3-0-0 (100.0%)\n",
            "   Taylor W: 3-1-0 (75.0%)\n",
            "   Evan Bryant: 3-1-0 (75.0%)\n",
            "   Dillon Johnson: 2-1-0 (66.7%)\n",
            "   brandon salazar: 2-1-0 (66.7%)\n",
            "\n",
            "💀 WORST MATCHUPS (3+ matches):\n",
            "   Alberto Conti: 0-3-1 (0.0%)\n",
            "   Joey Gaffney: 0-3-0 (0.0%)\n",
            "   Damian Gabriel Riquel: 0-2-1 (0.0%)\n",
            "   Carlos Sepúlveda: 0-3-0 (0.0%)\n",
            "   Matías Martini: 0-2-1 (0.0%)\n"
          ]
        }
      ],
      "source": [
        "# 🥊 HEAD-TO-HEAD ANALYSIS\n",
        "# Analyze specific player matchups and all opponents across tournaments\n",
        "\n",
        "from head_to_head_analyzer import analyze_head_to_head, analyze_all_opponents\n",
        "import os\n",
        "\n",
        "# Look for tournament data - check for 'complete' first, then timestamped ones\n",
        "if os.path.isdir(\"tournament_standings_complete\"):\n",
        "    standings_dir = \"tournament_standings_complete\"\n",
        "    print(f\"📁 Using complete standings: {standings_dir}\")\n",
        "else:\n",
        "    try:\n",
        "        standings_dir = multi_results['standings_directory']\n",
        "        print(f\"📁 Using tournament data from: {standings_dir}\")\n",
        "    except NameError:\n",
        "        print(\"❌ No tournament data found. Either:\")\n",
        "        print(\"   1. Run the multi-event simulation first with save_individual_standings=True, OR\")\n",
        "        print(\"   2. Make sure you have data in 'tournament_standings_complete' folder\")\n",
        "        standings_dir = None\n",
        "\n",
        "if standings_dir:\n",
        "    # Example 1: Head-to-head between two specific players\n",
        "    print(\"\\n\" + \"=\"*80)\n",
        "    analyze_head_to_head(\"Isaiah C\", \"Dalten Cross\", standings_dir)\n",
        "    \n",
        "    print(\"\\n\" + \"=\"*80)\n",
        "    \n",
        "    # Example 2: All opponents analysis for a player\n",
        "    analyze_all_opponents(\"Jake Santiago\", standings_dir, top_n=20)\n",
        "\n",
        "# To analyze any other matchup, use:\n",
        "# analyze_head_to_head(\"Player A\", \"Player B\", standings_dir)\n",
        "# analyze_all_opponents(\"Player Name\", standings_dir)\n"
      ]
    },
    {
      "cell_type": "code",
      "execution_count": null,
      "metadata": {},
      "outputs": [],
      "source": [
        "# 🏆 FINAL SEASON RANKINGS - TOP 150 PLAYERS\n",
        "# ============================================\n",
        "# Display the updated championship standings after the tournament\n",
        "\n",
        "if sim.na_manager:\n",
        "    print(f\"\\n🏆 FINAL NA CHAMPIONSHIP STANDINGS - TOP 150 PLAYERS\")\n",
        "    print(\"=\" * 100)\n",
        "    \n",
        "    # Generate final rankings (automatically saves updated standings)\n",
        "    final_rankings = sim.na_manager.generate_final_rankings(top_n=150)\n",
        "    \n",
        "    # Save to file for reference\n",
        "    timestamp = pd.Timestamp.now().strftime(\"%Y%m%d_%H%M%S\")\n",
        "    output_file = f\"final_rankings_top150_{timestamp}.csv\"\n",
        "    final_rankings.to_csv(output_file, index=False)\n",
        "    \n",
        "    print(f\"\\n💾 Top 150 rankings saved to: {output_file}\")\n",
        "    \n",
        "    # Show some key statistics\n",
        "    print(f\"\\n📊 CHAMPIONSHIP POINTS SUMMARY:\")\n",
        "    print(\"-\" * 50)\n",
        "    print(f\"Total players tracked: {len(sim.na_manager.na_standings):,}\")\n",
        "    print(f\"Players with championship points: {len(sim.na_manager.na_standings[sim.na_manager.na_standings['Total_CP'] > 0]):,}\")\n",
        "    print(f\"Highest Total CP: {sim.na_manager.na_standings['Total_CP'].max():,}\")\n",
        "    print(f\"Average Total CP: {sim.na_manager.na_standings['Total_CP'].mean():.1f}\")\n",
        "    \n",
        "    # Show top 5 changes if there were any\n",
        "    print(f\"\\n🔥 CURRENT CHAMPIONSHIP LEADERS:\")\n",
        "    print(\"-\" * 50)\n",
        "    top_5 = final_rankings.head(5)\n",
        "    for i, (_, player) in enumerate(top_5.iterrows(), 1):\n",
        "        name = player['Top X Name'][:30]\n",
        "        total_cp = int(player['Total_CP'])\n",
        "        top_x = int(player['Top_X_CP'])\n",
        "        locals_cp = int(player['Locals CP'])\n",
        "        print(f\"{i}. {name:<30} | Total: {total_cp:,} | Top X: {top_x:,} | Locals: {locals_cp}\")\n",
        "        \n",
        "    print(f\"\\n✅ Championship points tournament and rankings complete!\")\n",
        "    print(f\"📁 All data saved with timestamp for future reference\")\n",
        "    \n",
        "else:\n",
        "    print(\"❌ Cannot display final rankings - NA standings not loaded\")\n"
      ]
    },
    {
      "cell_type": "raw",
      "metadata": {
        "vscode": {
          "languageId": "raw"
        }
      },
      "source": [
        "## 🎯 140th Place Championship Points Experiment\n",
        "\n",
        "**ONE-CLICK ANALYSIS** - Track exactly what matters: the 140th place player's championship points after multiple tournaments.\n"
      ]
    },
    {
      "cell_type": "code",
      "execution_count": null,
      "metadata": {},
      "outputs": [],
      "source": [
        "# 🎯 140TH PLACE CUTOFF PREDICTION - INDEPENDENT SCENARIOS \n",
        "# =========================================================\n",
        "# This runs INDEPENDENT tournaments to predict the range of possible 140th place cutoffs\n",
        "# Each tournament starts from the same baseline (NO cumulative effects!)\n",
        "\n",
        "# EXPERIMENT PARAMETERS (ADJUST THESE)\n",
        "num_scenarios = 10        # Number of independent scenarios to simulate\n",
        "tournament_size = 1000    # Players per tournament (1000 = faster, 3700 = realistic)\n",
        "\n",
        "print(f\"🎯 PREDICTING 140TH PLACE CUTOFF RANGE\")\n",
        "print(\"=\" * 60)\n",
        "print(f\"Parameters:\")\n",
        "print(f\"   Independent scenarios: {num_scenarios}\")\n",
        "print(f\"   Tournament size: {tournament_size:,} players each\")\n",
        "print(f\"   Goal: Predict where the 140th place cutoff will be\")\n",
        "print(f\"   Method: Each tournament starts from same baseline\")\n",
        "\n",
        "# Create simulator with championship points tracking\n",
        "sim = TournamentSimulator(track_na_standings=True)\n",
        "\n",
        "if sim.na_manager:\n",
        "    # Run the independent scenario analysis\n",
        "    results = sim.track_140th_place_experiment(\n",
        "        num_simulations=num_scenarios,\n",
        "        tournament_size=tournament_size,\n",
        "        save_results=True\n",
        "    )\n",
        "    \n",
        "    if results:\n",
        "        # Extract the key data for further analysis\n",
        "        place_140_values = results['raw_data']\n",
        "        stats = results['statistics']\n",
        "        \n",
        "        print(f\"\\n🎯 CUTOFF PREDICTION SUMMARY\")\n",
        "        print(\"=\" * 50)\n",
        "        print(f\"Baseline:    {stats['initial_value']:,} CP\")\n",
        "        print(f\"Predicted Range:\")\n",
        "        print(f\"  Lowest:    {stats['min']:,} CP\")\n",
        "        print(f\"  Highest:   {stats['max']:,} CP\")\n",
        "        print(f\"  Most likely: {stats['mean']:,.1f} CP\")\n",
        "        print(f\"  Std Dev:   {stats['std']:,.1f} CP\")\n",
        "        \n",
        "        # Calculate useful metrics for cutoff prediction\n",
        "        confidence_68 = stats['std']  # ~68% of results within 1 std dev\n",
        "        lower_bound = stats['mean'] - confidence_68\n",
        "        upper_bound = stats['mean'] + confidence_68\n",
        "        \n",
        "        print(f\"\\n📊 CUTOFF CONFIDENCE INTERVALS:\")\n",
        "        print(f\"  68% likely between: {lower_bound:,.0f} - {upper_bound:,.0f} CP\")\n",
        "        print(f\"  Absolute range:     {stats['min']:,} - {stats['max']:,} CP\")\n",
        "        \n",
        "        # Store for easy access\n",
        "        cutoff_prediction = {\n",
        "            'baseline': stats['initial_value'],\n",
        "            'scenarios': place_140_values,\n",
        "            'predicted_mean': stats['mean'],\n",
        "            'predicted_min': stats['min'],\n",
        "            'predicted_max': stats['max'],\n",
        "            'std_dev': stats['std'],\n",
        "            'confidence_68_lower': lower_bound,\n",
        "            'confidence_68_upper': upper_bound\n",
        "        }\n",
        "        \n",
        "        print(f\"\\n✅ Cutoff prediction complete! Data stored in 'cutoff_prediction' variable\")\n",
        "        print(f\"💾 Detailed results saved to timestamped files\")\n",
        "    else:\n",
        "        print(\"❌ Prediction failed\")\n",
        "else:\n",
        "    print(\"❌ Cannot run prediction - championship points system not loaded\")\n"
      ]
    },
    {
      "cell_type": "code",
      "execution_count": null,
      "metadata": {},
      "outputs": [],
      "source": [
        "# 🚀 QUICK CUTOFF PREDICTOR\n",
        "# ==========================\n",
        "# Easy one-liners for different prediction scenarios (all INDEPENDENT)\n",
        "\n",
        "def quick_prediction(num_scenarios, size=1000):\n",
        "    \"\"\"Run quick 140th place cutoff prediction with independent scenarios\"\"\"\n",
        "    sim = TournamentSimulator(track_na_standings=True)\n",
        "    if sim.na_manager:\n",
        "        return sim.track_140th_place_experiment(num_scenarios, size, save_results=True)\n",
        "    return None\n",
        "\n",
        "# UNCOMMENT THE LINE YOU WANT TO RUN:\n",
        "\n",
        "# Quick test (5 independent scenarios, 1000 players each)\n",
        "# results_quick = quick_prediction(5, 1000)\n",
        "\n",
        "# Standard prediction (10 independent scenarios, 1000 players each) \n",
        "# results_standard = quick_prediction(10, 1000)\n",
        "\n",
        "# Large sample (20 independent scenarios, 1000 players each)\n",
        "# results_large = quick_prediction(20, 1000)\n",
        "\n",
        "# Realistic size (10 independent scenarios, 3700 players each) - SLOW!\n",
        "results_realistic = quick_prediction(10, 3700)\n",
        "\n",
        "print(\"🚀 Quick Cutoff Predictor Ready!\")\n",
        "print(\"Each scenario is INDEPENDENT - no cumulative effects\")\n",
        "print(\"Uncomment one of the lines above and run this cell\")\n"
      ]
    },
    {
      "cell_type": "raw",
      "metadata": {
        "vscode": {
          "languageId": "raw"
        }
      },
      "source": [
        "## 📊 Single Tournament Summary\n",
        "\n",
        "Get comprehensive results for the last single tournament.\n"
      ]
    },
    {
      "cell_type": "code",
      "execution_count": null,
      "metadata": {},
      "outputs": [],
      "source": [
        "# Show single tournament summary (from last single tournament run)\n",
        "sim.tournament_summary()\n"
      ]
    },
    {
      "cell_type": "raw",
      "metadata": {
        "vscode": {
          "languageId": "raw"
        }
      },
      "source": [
        "## 🔍 Player Analysis\n",
        "\n",
        "Analyze specific players by entering their name below.\n"
      ]
    },
    {
      "cell_type": "code",
      "execution_count": null,
      "metadata": {},
      "outputs": [],
      "source": [
        "# Analyze specific player\n",
        "player_name = \"Charlie Lockyer\"  # Change this name\n",
        "\n",
        "print(f\"🔍 Analyzing player: {player_name}\")\n",
        "sim.analyze_player(player_name)\n"
      ]
    },
    {
      "cell_type": "raw",
      "metadata": {
        "vscode": {
          "languageId": "raw"
        }
      },
      "source": [
        "## 🚨 Low CP Success Check\n",
        "\n",
        "Find any low CP players who performed unexpectedly well.\n"
      ]
    },
    {
      "cell_type": "code",
      "execution_count": null,
      "metadata": {},
      "outputs": [],
      "source": [
        "# Check for successful low CP players\n",
        "sim.find_successful_low_cp(8)  # 8+ wins threshold\n"
      ]
    },
    {
      "cell_type": "raw",
      "metadata": {
        "vscode": {
          "languageId": "raw"
        }
      },
      "source": [
        "## 📈 Quick Stats\n",
        "\n",
        "Get quick tournament statistics in a clean format.\n"
      ]
    },
    {
      "cell_type": "code",
      "execution_count": null,
      "metadata": {},
      "outputs": [],
      "source": [
        "# Quick stats\n",
        "if sim.tournament_result is not None:\n",
        "    df = sim.tournament_result['players_df']\n",
        "    final = sim.tournament_result['final_standings']\n",
        "    \n",
        "    # Basic stats\n",
        "    total_players = len(df)\n",
        "    low_cp_count = len(df[df['cp'] <= 331])\n",
        "    advanced = len(df[df['match_points'] >= 19])\n",
        "    low_cp_advanced = len(df[(df['match_points'] >= 19) & (df['cp'] <= 331)])\n",
        "    \n",
        "    # Top cut stats\n",
        "    top8_low = len(final.head(8)[final.head(8)['cp'] <= 331])\n",
        "    top16_low = len(final.head(16)[final.head(16)['cp'] <= 331])\n",
        "    top32_low = len(final.head(32)[final.head(32)['cp'] <= 331])\n",
        "    \n",
        "    # Champion\n",
        "    champion = final.iloc[0]\n",
        "    \n",
        "    print(\"📊 QUICK TOURNAMENT STATS\")\n",
        "    print(\"=\" * 40)\n",
        "    print(f\"Total Players: {total_players:,}\")\n",
        "    print(f\"Low CP (≤331): {low_cp_count:,} ({low_cp_count/total_players*100:.1f}%)\")\n",
        "    print(f\"Advanced to Day 2: {advanced}\")\n",
        "    print(f\"Low CP Advanced: {low_cp_advanced} ({low_cp_advanced/advanced*100:.1f}%)\")\n",
        "    print()\n",
        "    print(f\"Champion: {champion['name']} ({champion['cp']} CP)\")\n",
        "    print(f\"Champion Record: {champion['wins']}-{champion['losses']}-{champion['ties']}\")\n",
        "    print()\n",
        "    print(f\"Low CP in Top 8: {top8_low}/8 ({top8_low/8*100:.1f}%)\")\n",
        "    print(f\"Low CP in Top 16: {top16_low}/16 ({top16_low/16*100:.1f}%)\")\n",
        "    print(f\"Low CP in Top 32: {top32_low}/32 ({top32_low/32*100:.1f}%)\")\n",
        "    \n",
        "else:\n",
        "    print(\"❌ No tournament results available. Run a tournament first!\")\n"
      ]
    },
    {
      "cell_type": "raw",
      "metadata": {
        "vscode": {
          "languageId": "raw"
        }
      },
      "source": [
        "---\n",
        "\n",
        "### 💡 Tips:\n",
        "- Run cells in order for best results\n",
        "- Modify player names in the analysis section\n",
        "- Change tournament size in the custom options\n",
        "- All results are automatically saved in `sim.tournament_result`\n"
      ]
    }
  ],
  "metadata": {
    "kernelspec": {
      "display_name": "venv",
      "language": "python",
      "name": "python3"
    },
    "language_info": {
      "codemirror_mode": {
        "name": "ipython",
        "version": 3
      },
      "file_extension": ".py",
      "mimetype": "text/x-python",
      "name": "python",
      "nbconvert_exporter": "python",
      "pygments_lexer": "ipython3",
      "version": "3.13.2"
    }
  },
  "nbformat": 4,
  "nbformat_minor": 2
}
